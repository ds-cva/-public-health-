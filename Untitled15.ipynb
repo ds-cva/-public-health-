{
  "nbformat": 4,
  "nbformat_minor": 0,
  "metadata": {
    "colab": {
      "provenance": []
    },
    "kernelspec": {
      "name": "python3",
      "display_name": "Python 3"
    },
    "language_info": {
      "name": "python"
    }
  },
  "cells": [
    {
      "cell_type": "code",
      "execution_count": 1,
      "metadata": {
        "id": "TjYKAl8aTt_M"
      },
      "outputs": [],
      "source": [
        "import pandas as pd\n"
      ]
    },
    {
      "cell_type": "code",
      "source": [
        "url = 'https://raw.githubusercontent.com/ds-cva/-public-health-/main/sample.csv'\n",
        "df = pd.read_csv(url)"
      ],
      "metadata": {
        "id": "FK9j6wJXTwnN"
      },
      "execution_count": null,
      "outputs": []
    }
  ]
}